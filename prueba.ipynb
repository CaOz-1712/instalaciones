### El SNR permite medir la relación de la señal y ruido en la imagen.


#![inmg](https://github.com/SandraFB/instalaciones/blob/master/imagen1.jpg)


## Variables de entrada
a= 1.03
b=503
c= 2** 2
print("a= "+str(a)+" b= "+str(b)+" c= "+str(c))

## Suma 
d= a+b
e= a+c
f= d+e-b
print("d= "+str(d)+" e= "+str(e)+" f= "+str(f))

